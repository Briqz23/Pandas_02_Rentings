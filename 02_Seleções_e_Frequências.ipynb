{
  "nbformat": 4,
  "nbformat_minor": 0,
  "metadata": {
    "colab": {
      "name": "Seleções e Frequências",
      "provenance": [],
      "collapsed_sections": []
    },
    "kernelspec": {
      "name": "python3",
      "display_name": "Python 3"
    },
    "language_info": {
      "name": "python"
    }
  },
  "cells": [
    {
      "cell_type": "markdown",
      "source": [
        "## Relatório de análise IV\n",
        "Seleções e Frequências"
      ],
      "metadata": {
        "id": "41OuajrdgMWO"
      }
    },
    {
      "cell_type": "markdown",
      "source": [
        ""
      ],
      "metadata": {
        "id": "7SJiDY7Wf9Kz"
      }
    },
    {
      "cell_type": "code",
      "source": [
        "import pandas as pd\n",
        "dados = pd.read_csv('aluguel_residencial.csv', sep = ';')"
      ],
      "metadata": {
        "id": "-vx9KGt3gF2q"
      },
      "execution_count": null,
      "outputs": []
    },
    {
      "cell_type": "code",
      "source": [
        "dados.head()"
      ],
      "metadata": {
        "id": "XUZgumWSglG1",
        "outputId": "96c75314-5fe8-4883-c721-32374a5c9fc2",
        "colab": {
          "base_uri": "https://localhost:8080/",
          "height": 206
        }
      },
      "execution_count": null,
      "outputs": [
        {
          "output_type": "execute_result",
          "data": {
            "text/plain": [
              "          Tipo           Bairro  Quartos  Vagas  Suites  Area   Valor  \\\n",
              "0    Quitinete       Copacabana        1      0       0    40  1700.0   \n",
              "1         Casa  Jardim Botânico        2      0       1   100  7000.0   \n",
              "2  Apartamento           Centro        1      0       0    15   800.0   \n",
              "3  Apartamento     Higienópolis        1      0       0    48   800.0   \n",
              "4  Apartamento     Vista Alegre        3      1       0    70  1200.0   \n",
              "\n",
              "   Condominio  IPTU  \n",
              "0       500.0  60.0  \n",
              "1         NaN   NaN  \n",
              "2       390.0  20.0  \n",
              "3       230.0   NaN  \n",
              "4         NaN   NaN  "
            ],
            "text/html": [
              "\n",
              "  <div id=\"df-a9535757-2084-4cf5-b0d0-1ab0f1950a74\">\n",
              "    <div class=\"colab-df-container\">\n",
              "      <div>\n",
              "<style scoped>\n",
              "    .dataframe tbody tr th:only-of-type {\n",
              "        vertical-align: middle;\n",
              "    }\n",
              "\n",
              "    .dataframe tbody tr th {\n",
              "        vertical-align: top;\n",
              "    }\n",
              "\n",
              "    .dataframe thead th {\n",
              "        text-align: right;\n",
              "    }\n",
              "</style>\n",
              "<table border=\"1\" class=\"dataframe\">\n",
              "  <thead>\n",
              "    <tr style=\"text-align: right;\">\n",
              "      <th></th>\n",
              "      <th>Tipo</th>\n",
              "      <th>Bairro</th>\n",
              "      <th>Quartos</th>\n",
              "      <th>Vagas</th>\n",
              "      <th>Suites</th>\n",
              "      <th>Area</th>\n",
              "      <th>Valor</th>\n",
              "      <th>Condominio</th>\n",
              "      <th>IPTU</th>\n",
              "    </tr>\n",
              "  </thead>\n",
              "  <tbody>\n",
              "    <tr>\n",
              "      <th>0</th>\n",
              "      <td>Quitinete</td>\n",
              "      <td>Copacabana</td>\n",
              "      <td>1</td>\n",
              "      <td>0</td>\n",
              "      <td>0</td>\n",
              "      <td>40</td>\n",
              "      <td>1700.0</td>\n",
              "      <td>500.0</td>\n",
              "      <td>60.0</td>\n",
              "    </tr>\n",
              "    <tr>\n",
              "      <th>1</th>\n",
              "      <td>Casa</td>\n",
              "      <td>Jardim Botânico</td>\n",
              "      <td>2</td>\n",
              "      <td>0</td>\n",
              "      <td>1</td>\n",
              "      <td>100</td>\n",
              "      <td>7000.0</td>\n",
              "      <td>NaN</td>\n",
              "      <td>NaN</td>\n",
              "    </tr>\n",
              "    <tr>\n",
              "      <th>2</th>\n",
              "      <td>Apartamento</td>\n",
              "      <td>Centro</td>\n",
              "      <td>1</td>\n",
              "      <td>0</td>\n",
              "      <td>0</td>\n",
              "      <td>15</td>\n",
              "      <td>800.0</td>\n",
              "      <td>390.0</td>\n",
              "      <td>20.0</td>\n",
              "    </tr>\n",
              "    <tr>\n",
              "      <th>3</th>\n",
              "      <td>Apartamento</td>\n",
              "      <td>Higienópolis</td>\n",
              "      <td>1</td>\n",
              "      <td>0</td>\n",
              "      <td>0</td>\n",
              "      <td>48</td>\n",
              "      <td>800.0</td>\n",
              "      <td>230.0</td>\n",
              "      <td>NaN</td>\n",
              "    </tr>\n",
              "    <tr>\n",
              "      <th>4</th>\n",
              "      <td>Apartamento</td>\n",
              "      <td>Vista Alegre</td>\n",
              "      <td>3</td>\n",
              "      <td>1</td>\n",
              "      <td>0</td>\n",
              "      <td>70</td>\n",
              "      <td>1200.0</td>\n",
              "      <td>NaN</td>\n",
              "      <td>NaN</td>\n",
              "    </tr>\n",
              "  </tbody>\n",
              "</table>\n",
              "</div>\n",
              "      <button class=\"colab-df-convert\" onclick=\"convertToInteractive('df-a9535757-2084-4cf5-b0d0-1ab0f1950a74')\"\n",
              "              title=\"Convert this dataframe to an interactive table.\"\n",
              "              style=\"display:none;\">\n",
              "        \n",
              "  <svg xmlns=\"http://www.w3.org/2000/svg\" height=\"24px\"viewBox=\"0 0 24 24\"\n",
              "       width=\"24px\">\n",
              "    <path d=\"M0 0h24v24H0V0z\" fill=\"none\"/>\n",
              "    <path d=\"M18.56 5.44l.94 2.06.94-2.06 2.06-.94-2.06-.94-.94-2.06-.94 2.06-2.06.94zm-11 1L8.5 8.5l.94-2.06 2.06-.94-2.06-.94L8.5 2.5l-.94 2.06-2.06.94zm10 10l.94 2.06.94-2.06 2.06-.94-2.06-.94-.94-2.06-.94 2.06-2.06.94z\"/><path d=\"M17.41 7.96l-1.37-1.37c-.4-.4-.92-.59-1.43-.59-.52 0-1.04.2-1.43.59L10.3 9.45l-7.72 7.72c-.78.78-.78 2.05 0 2.83L4 21.41c.39.39.9.59 1.41.59.51 0 1.02-.2 1.41-.59l7.78-7.78 2.81-2.81c.8-.78.8-2.07 0-2.86zM5.41 20L4 18.59l7.72-7.72 1.47 1.35L5.41 20z\"/>\n",
              "  </svg>\n",
              "      </button>\n",
              "      \n",
              "  <style>\n",
              "    .colab-df-container {\n",
              "      display:flex;\n",
              "      flex-wrap:wrap;\n",
              "      gap: 12px;\n",
              "    }\n",
              "\n",
              "    .colab-df-convert {\n",
              "      background-color: #E8F0FE;\n",
              "      border: none;\n",
              "      border-radius: 50%;\n",
              "      cursor: pointer;\n",
              "      display: none;\n",
              "      fill: #1967D2;\n",
              "      height: 32px;\n",
              "      padding: 0 0 0 0;\n",
              "      width: 32px;\n",
              "    }\n",
              "\n",
              "    .colab-df-convert:hover {\n",
              "      background-color: #E2EBFA;\n",
              "      box-shadow: 0px 1px 2px rgba(60, 64, 67, 0.3), 0px 1px 3px 1px rgba(60, 64, 67, 0.15);\n",
              "      fill: #174EA6;\n",
              "    }\n",
              "\n",
              "    [theme=dark] .colab-df-convert {\n",
              "      background-color: #3B4455;\n",
              "      fill: #D2E3FC;\n",
              "    }\n",
              "\n",
              "    [theme=dark] .colab-df-convert:hover {\n",
              "      background-color: #434B5C;\n",
              "      box-shadow: 0px 1px 3px 1px rgba(0, 0, 0, 0.15);\n",
              "      filter: drop-shadow(0px 1px 2px rgba(0, 0, 0, 0.3));\n",
              "      fill: #FFFFFF;\n",
              "    }\n",
              "  </style>\n",
              "\n",
              "      <script>\n",
              "        const buttonEl =\n",
              "          document.querySelector('#df-a9535757-2084-4cf5-b0d0-1ab0f1950a74 button.colab-df-convert');\n",
              "        buttonEl.style.display =\n",
              "          google.colab.kernel.accessAllowed ? 'block' : 'none';\n",
              "\n",
              "        async function convertToInteractive(key) {\n",
              "          const element = document.querySelector('#df-a9535757-2084-4cf5-b0d0-1ab0f1950a74');\n",
              "          const dataTable =\n",
              "            await google.colab.kernel.invokeFunction('convertToInteractive',\n",
              "                                                     [key], {});\n",
              "          if (!dataTable) return;\n",
              "\n",
              "          const docLinkHtml = 'Like what you see? Visit the ' +\n",
              "            '<a target=\"_blank\" href=https://colab.research.google.com/notebooks/data_table.ipynb>data table notebook</a>'\n",
              "            + ' to learn more about interactive tables.';\n",
              "          element.innerHTML = '';\n",
              "          dataTable['output_type'] = 'display_data';\n",
              "          await google.colab.output.renderOutput(dataTable, element);\n",
              "          const docLink = document.createElement('div');\n",
              "          docLink.innerHTML = docLinkHtml;\n",
              "          element.appendChild(docLink);\n",
              "        }\n",
              "      </script>\n",
              "    </div>\n",
              "  </div>\n",
              "  "
            ]
          },
          "metadata": {},
          "execution_count": 2
        }
      ]
    },
    {
      "cell_type": "markdown",
      "source": [
        "# Imóveis classificados com tipo 'Apartamento'."
      ],
      "metadata": {
        "id": "KZFr6y9Ask0u"
      }
    },
    {
      "cell_type": "code",
      "source": [
        "#criar serie booleana\n",
        "selecao = dados['Tipo'] == 'Apartamento'\n",
        "n1 = dados[selecao].shape[0]\n",
        "print(f\"'Apartamento' = {n1}\")"
      ],
      "metadata": {
        "colab": {
          "base_uri": "https://localhost:8080/"
        },
        "id": "pvOG6y5TsmKb",
        "outputId": "834e71c7-920d-4971-db70-6869e490e75f"
      },
      "execution_count": null,
      "outputs": [
        {
          "output_type": "stream",
          "name": "stdout",
          "text": [
            "'Apartamento' = 19532\n"
          ]
        }
      ]
    },
    {
      "cell_type": "markdown",
      "source": [
        "#Selecione os imóveis classificados com tipos 'Casa', 'Casa de Condomínio' e 'Casa de Vila'."
      ],
      "metadata": {
        "id": "0RKvahQdtwzp"
      }
    },
    {
      "cell_type": "code",
      "source": [
        "selecao = ((dados['Tipo'] == 'Casa') | (dados['Tipo'] == 'Casa de Condomínio') | (dados['Tipo'] == 'Casa de Vila' ))\n",
        "n2 = dados[selecao].shape[0]\n",
        "print(f\" 'Casa', 'Casa de Condomínio' e 'Casa de Vila' = {n2}\")"
      ],
      "metadata": {
        "colab": {
          "base_uri": "https://localhost:8080/"
        },
        "id": "PiFbvjCKtwG4",
        "outputId": "bb85c736-aa94-4f0e-f567-96d0ce31c6e0"
      },
      "execution_count": null,
      "outputs": [
        {
          "output_type": "stream",
          "name": "stdout",
          "text": [
            " 'Casa', 'Casa de Condomínio' e 'Casa de Vila' = 2212\n"
          ]
        }
      ]
    },
    {
      "cell_type": "markdown",
      "source": [
        "#Selecione os imóveis com área entre 60 e 100 metros quadrados, incluindo os limites."
      ],
      "metadata": {
        "id": "T4dCwM96vPzO"
      }
    },
    {
      "cell_type": "code",
      "source": [
        "selecao = (dados['Area'] >=60) & (dados['Area']<=100)\n",
        "\n",
        "n3 = dados[selecao].shape[0]\n",
        "print(f\"Imóveis com área entre 60 e 100  = {n3}\")"
      ],
      "metadata": {
        "colab": {
          "base_uri": "https://localhost:8080/"
        },
        "id": "j0Bas45VvKFx",
        "outputId": "ad3ef6d7-5f27-4be1-d989-99e15649120e"
      },
      "execution_count": null,
      "outputs": [
        {
          "output_type": "stream",
          "name": "stdout",
          "text": [
            "imóveis com área entre 60 e 100  = 8719\n"
          ]
        }
      ]
    },
    {
      "cell_type": "markdown",
      "source": [
        "#Selecione os imóveis que tenham pelo menos 4 quartos e aluguel menor que R$ 2.000,00."
      ],
      "metadata": {
        "id": "y2vYFEEfvsl1"
      }
    },
    {
      "cell_type": "code",
      "source": [
        "selecao = (dados['Quartos'] >= 4) & (dados['Valor'] < 2000)\n",
        "n4 = dados[selecao]\n",
        "print(f\"Imóveis que tenham pelo menos 4 quartos e aluguel menor que R$ = {n4}\")"
      ],
      "metadata": {
        "colab": {
          "base_uri": "https://localhost:8080/"
        },
        "id": "dW26GpLpvuxh",
        "outputId": "b6e9fdd3-ccc9-4df6-8d96-d81a14bad05d"
      },
      "execution_count": null,
      "outputs": [
        {
          "output_type": "stream",
          "name": "stdout",
          "text": [
            "Selecione os imóveis que tenham pelo menos 4 quartos e aluguel menor que R$ =                      Tipo                    Bairro  Quartos  Vagas  Suites  \\\n",
            "484           Apartamento  Recreio dos Bandeirantes        4      2       2   \n",
            "1003          Apartamento                   Taquara        4      1       1   \n",
            "1961                 Casa              Campo Grande        4      1       4   \n",
            "2102                 Casa         Engenho de Dentro        4      3       0   \n",
            "2200          Apartamento  Recreio dos Bandeirantes        4      2       2   \n",
            "2338         Casa de Vila                     Méier        4      0       1   \n",
            "3943                 Casa              Campo Grande        4      1       0   \n",
            "3944          Apartamento              Campo Grande        4      2       1   \n",
            "4349          Apartamento  Recreio dos Bandeirantes        4      2       1   \n",
            "5081          Apartamento               Cidade Nova        4      0       0   \n",
            "6524          Apartamento                 Pechincha        4      1       2   \n",
            "6800                 Casa                 Riachuelo        4      0       1   \n",
            "6811                 Casa                     Méier        4      1       1   \n",
            "7624          Apartamento  Recreio dos Bandeirantes        4      2       3   \n",
            "7651          Apartamento  Recreio dos Bandeirantes        4      3       2   \n",
            "7867          Apartamento  Recreio dos Bandeirantes        4      2       1   \n",
            "10111         Apartamento  Recreio dos Bandeirantes        4      2       1   \n",
            "10929  Casa de Condomínio                   Taquara        4      1       0   \n",
            "11308                Casa              Santo Cristo        5      0       0   \n",
            "11977         Apartamento                      Leme        4      0       1   \n",
            "12525         Apartamento  Recreio dos Bandeirantes        4      2       1   \n",
            "13307         Apartamento                   Camorim        4      1       1   \n",
            "13659         Apartamento           Barra da Tijuca        4      3       4   \n",
            "14034                Casa                Praça Seca        4      1       1   \n",
            "14987  Casa de Condomínio   Freguesia (Jacarepaguá)        4      2       1   \n",
            "15010                Casa        Pedra de Guaratiba        4      1       0   \n",
            "15912         Apartamento              Campo Grande        4      2       2   \n",
            "16031         Apartamento  Recreio dos Bandeirantes        4      2       2   \n",
            "16137         Apartamento              Rio Comprido        4      1       0   \n",
            "16791                Casa              Campo Grande        4      3       0   \n",
            "17764         Apartamento                   Taquara        4      3       1   \n",
            "17884                Casa              Campo Grande        4      0       1   \n",
            "18140                Casa              Campo Grande        4      0       0   \n",
            "18274                Casa              Braz de Pina        4      1       0   \n",
            "18453                Casa              Campo Grande        4      1       3   \n",
            "19403                Casa              Campo Grande        4      1       2   \n",
            "20178         Apartamento              Campo Grande        4      1       1   \n",
            "20974         Apartamento           Barra da Tijuca        4      3       4   \n",
            "21475         Apartamento             Vargem Grande        4      0       1   \n",
            "21783         Apartamento  Recreio dos Bandeirantes        4      2       2   \n",
            "21938                Casa              Campo Grande        4      2       0   \n",
            "\n",
            "       Area   Valor  Condominio   IPTU  \n",
            "484     160  1900.0       830.0    NaN  \n",
            "1003    110  1900.0         NaN    NaN  \n",
            "1961    100  1600.0         NaN    NaN  \n",
            "2102    120  1500.0         NaN    NaN  \n",
            "2200    125  1700.0         NaN   90.0  \n",
            "2338     85  1600.0         NaN    NaN  \n",
            "3943    140  1700.0         NaN    NaN  \n",
            "3944    115  1900.0       500.0    NaN  \n",
            "4349    105  1900.0      1492.0  205.0  \n",
            "5081    110  1300.0         NaN    NaN  \n",
            "6524    178  1900.0      1100.0  270.0  \n",
            "6800    100  1800.0         NaN   40.0  \n",
            "6811    125  1900.0         NaN    NaN  \n",
            "7624    280  1800.0      1400.0  580.0  \n",
            "7651    250  1500.0      1380.0  700.0  \n",
            "7867    160  1900.0      1093.0  183.0  \n",
            "10111   160  1900.0      1038.0  158.0  \n",
            "10929   110  1750.0       550.0  993.0  \n",
            "11308    85  1200.0         NaN    NaN  \n",
            "11977   185  1800.0      2000.0  270.0  \n",
            "12525   160  1900.0       930.0  150.0  \n",
            "13307    96  1350.0       747.0    NaN  \n",
            "13659   148  1600.0      1766.0    NaN  \n",
            "14034   128  1600.0         NaN  228.0  \n",
            "14987   120  1800.0       195.0   30.0  \n",
            "15010   100  1300.0         NaN    NaN  \n",
            "15912   160  1900.0       880.0    NaN  \n",
            "16031   160  1900.0       912.0  160.0  \n",
            "16137   110  1650.0       500.0    NaN  \n",
            "16791   120  1700.0         NaN    NaN  \n",
            "17764   190  1200.0         NaN    NaN  \n",
            "17884   366  1890.0         NaN  208.0  \n",
            "18140   159  1800.0         NaN    NaN  \n",
            "18274    99  1800.0         NaN    NaN  \n",
            "18453   100  1600.0         NaN    NaN  \n",
            "19403   180  1850.0       300.0    NaN  \n",
            "20178    80  1600.0       950.0    NaN  \n",
            "20974   148  1500.0      1600.0  196.0  \n",
            "21475   180  1900.0         NaN  176.0  \n",
            "21783   160  1900.0      1038.0    NaN  \n",
            "21938   120  1600.0         NaN    NaN  \n"
          ]
        }
      ]
    }
  ]
}